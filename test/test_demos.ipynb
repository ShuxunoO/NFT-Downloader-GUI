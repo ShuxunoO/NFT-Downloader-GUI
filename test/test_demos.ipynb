{
 "cells": [
  {
   "cell_type": "code",
   "execution_count": 26,
   "metadata": {},
   "outputs": [
    {
     "name": "stdout",
     "output_type": "stream",
     "text": [
      "文件格式为: 无法访问文件\n"
     ]
    }
   ],
   "source": [
    "# 要获取一个文件资源链接的文件格式，可以使用Python编写一个函数来下载文件并检查其MIME类型。以下是一个示例代码：\n",
    "\n",
    "\n",
    "import requests\n",
    "import mimetypes\n",
    "\n",
    "def get_file_format(url: str) -> str:\n",
    "    \"\"\"\n",
    "    获取文件格式\n",
    "    \n",
    "    :param url: 文件资源链接\n",
    "    :return: 文件的MIME类型\n",
    "    \"\"\"\n",
    "    response = requests.get(url, stream=True)\n",
    "    if response.status_code == 200:\n",
    "        content_type = response.headers.get('Content-Type')\n",
    "        if content_type:\n",
    "            return content_type\n",
    "        else:\n",
    "            ext = url.split('.')[-1]\n",
    "            mime_type = mimetypes.guess_type(url)[0]\n",
    "            return mime_type if mime_type else '未知类型'\n",
    "    else:\n",
    "        return '无法访问文件'\n",
    "\n",
    "# # 示例使用\n",
    "url = \"https://ipfs.io/ipfs/QmeSjSinHpPnmXmspMjwiXyN6zS4E9zccariGR3jxcaWtq/2.jpg\"\n",
    "# url = \"https://i.seadn.io/gae/48oVuDyfe_xhs24BC2TTVcaYCX7rrU5mpuQLyTgRDbKHj2PtzKZsQ5qC3xTH4ar34wwAXxEKH8uUDPAGffbg7boeGYqX6op5vBDcbA?w=3840&auto=format\"\n",
    "# url = \"https://i.seadn.io/gcs/files/c6cb0b1d6f2ab61c0efacf00e62e2230.jpg?w=3840&auto=format\"\n",
    "file_format = get_file_format(url)\n",
    "print(f\"文件格式为: {file_format}\")\n"
   ]
  },
  {
   "cell_type": "code",
   "execution_count": 31,
   "metadata": {},
   "outputs": [
    {
     "name": "stdout",
     "output_type": "stream",
     "text": [
      "文件格式为: .png\n"
     ]
    }
   ],
   "source": [
    "import requests\n",
    "\n",
    "def get_media_format(url: str) -> str:\n",
    "    \"\"\"\n",
    "    获取文件格式，如果文件名包含常见文件扩展名则返回该扩展名\n",
    "    \n",
    "    :param url: 文件资源链接\n",
    "    :return: 文件扩展名例如(\".jpg\", \".png\", \".mp4\" 等), 如果无法获取则返回 NULL\n",
    "    \n",
    "    \"\"\"\n",
    "\n",
    "    response = requests.get(url, stream=True)\n",
    "    if response.status_code == 200:\n",
    "        content_type = response.headers.get('Content-Type')\n",
    "        if content_type:\n",
    "            fmt = f\".{content_type.split('/')[-1]}\"\n",
    "            return fmt\n",
    "        else:\n",
    "            common_formats = ['.jpg', '.jpeg', '.png', 'webp', '.gif', '.mp4', \".svg\", '.xml']\n",
    "            for fmt in common_formats:\n",
    "                if fmt in url:\n",
    "                    return fmt\n",
    "    else:\n",
    "        return None\n",
    "\n",
    "# 示例使用\n",
    "# url = \"https://i.seadn.io/gcs/files/c6cb0b1d6f2ab61c0efacf00e62e2230.jpg?w=3840&auto=format\"\n",
    "url = \"https://ipfs.io/ipfs/QmYPznMvizE4BxrYaXM8dpRrzgN6Pg2rtTczjzNn13More\"\n",
    "file_format = get_media_format(url)\n",
    "print(f\"文件格式为: {file_format}\")\n"
   ]
  }
 ],
 "metadata": {
  "kernelspec": {
   "display_name": "Python 3",
   "language": "python",
   "name": "python3"
  },
  "language_info": {
   "codemirror_mode": {
    "name": "ipython",
    "version": 3
   },
   "file_extension": ".py",
   "mimetype": "text/x-python",
   "name": "python",
   "nbconvert_exporter": "python",
   "pygments_lexer": "ipython3",
   "version": "3.9.13"
  }
 },
 "nbformat": 4,
 "nbformat_minor": 2
}
