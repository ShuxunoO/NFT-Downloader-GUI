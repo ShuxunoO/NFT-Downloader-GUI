{
 "cells": [
  {
   "cell_type": "code",
   "execution_count": 26,
   "metadata": {},
   "outputs": [
    {
     "name": "stdout",
     "output_type": "stream",
     "text": [
      "文件格式为: 无法访问文件\n"
     ]
    }
   ],
   "source": [
    "# 要获取一个文件资源链接的文件格式，可以使用Python编写一个函数来下载文件并检查其MIME类型。以下是一个示例代码：\n",
    "\n",
    "\n",
    "import requests\n",
    "import mimetypes\n",
    "\n",
    "def get_file_format(url: str) -> str:\n",
    "    \"\"\"\n",
    "    获取文件格式\n",
    "    \n",
    "    :param url: 文件资源链接\n",
    "    :return: 文件的MIME类型\n",
    "    \"\"\"\n",
    "    response = requests.get(url, stream=True)\n",
    "    if response.status_code == 200:\n",
    "        content_type = response.headers.get('Content-Type')\n",
    "        if content_type:\n",
    "            return content_type\n",
    "        else:\n",
    "            ext = url.split('.')[-1]\n",
    "            mime_type = mimetypes.guess_type(url)[0]\n",
    "            return mime_type if mime_type else '未知类型'\n",
    "    else:\n",
    "        return '无法访问文件'\n",
    "\n",
    "# # 示例使用\n",
    "url = \"https://ipfs.io/ipfs/QmeSjSinHpPnmXmspMjwiXyN6zS4E9zccariGR3jxcaWtq/2.jpg\"\n",
    "# url = \"https://i.seadn.io/gae/48oVuDyfe_xhs24BC2TTVcaYCX7rrU5mpuQLyTgRDbKHj2PtzKZsQ5qC3xTH4ar34wwAXxEKH8uUDPAGffbg7boeGYqX6op5vBDcbA?w=3840&auto=format\"\n",
    "# url = \"https://i.seadn.io/gcs/files/c6cb0b1d6f2ab61c0efacf00e62e2230.jpg?w=3840&auto=format\"\n",
    "file_format = get_file_format(url)\n",
    "print(f\"文件格式为: {file_format}\")\n"
   ]
  },
  {
   "cell_type": "code",
   "execution_count": 31,
   "metadata": {},
   "outputs": [
    {
     "name": "stdout",
     "output_type": "stream",
     "text": [
      "文件格式为: .png\n"
     ]
    }
   ],
   "source": [
    "import requests\n",
    "\n",
    "def get_media_format(url: str) -> str:\n",
    "    \"\"\"\n",
    "    获取文件格式，如果文件名包含常见文件扩展名则返回该扩展名\n",
    "    \n",
    "    :param url: 文件资源链接\n",
    "    :return: 文件扩展名例如(\".jpg\", \".png\", \".mp4\" 等), 如果无法获取则返回 NULL\n",
    "    \n",
    "    \"\"\"\n",
    "\n",
    "    response = requests.get(url, stream=True)\n",
    "    if response.status_code == 200:\n",
    "        content_type = response.headers.get('Content-Type')\n",
    "        if content_type:\n",
    "            fmt = f\".{content_type.split('/')[-1]}\"\n",
    "            return fmt\n",
    "        else:\n",
    "            common_formats = ['.jpg', '.jpeg', '.png', 'webp', '.gif', '.mp4', \".svg\", '.xml']\n",
    "            for fmt in common_formats:\n",
    "                if fmt in url:\n",
    "                    return fmt\n",
    "    else:\n",
    "        return None\n",
    "\n",
    "# 示例使用\n",
    "# url = \"https://i.seadn.io/gcs/files/c6cb0b1d6f2ab61c0efacf00e62e2230.jpg?w=3840&auto=format\"\n",
    "url = \"https://ipfs.io/ipfs/QmYPznMvizE4BxrYaXM8dpRrzgN6Pg2rtTczjzNn13More\"\n",
    "file_format = get_media_format(url)\n",
    "print(f\"文件格式为: {file_format}\")\n"
   ]
  },
  {
   "cell_type": "code",
   "execution_count": 2,
   "metadata": {},
   "outputs": [],
   "source": [
    "class PayloadFactory:\n",
    "    def __init__(self,\n",
    "                candidate_format: str,\n",
    "                start=0,\n",
    "                interval_length=80,\n",
    "                total_supply=0):\n",
    "\n",
    "        self.start = start\n",
    "        self.interval_length = interval_length\n",
    "        self.total_supply = total_supply\n",
    "        self.candidate_format = candidate_format\n",
    "\n",
    "    def create_interval_tuples_with_start_end(self) -> list:\n",
    "        \"\"\"\n",
    "        使用给定的间隔和结束值创建一个区间元组列表。\n",
    "\n",
    "        :return: 一个区间元组列表。\n",
    "        \"\"\"\n",
    "        result = []\n",
    "        start = self.start\n",
    "        while start < self.totalSupply:\n",
    "            result.append((start, min(start + self.interval_length, self.totalSupply)))\n",
    "            start += self.interval_length\n",
    "        return result\n",
    "\n",
    "    def create_interval_tuples_with_start_len(self) -> list:\n",
    "        \"\"\"\n",
    "        使用给定的间隔和结束值创建一个区间元组列表, 列表中的元素形式为（区间开始，区间间隔）。\n",
    "\n",
    "        :return: 一个区间元组列表。\n",
    "        \"\"\"\n",
    "        result = []\n",
    "        start = self.start\n",
    "        while start < self.total_supply:\n",
    "            if start + self.interval_length < self.total_supply:\n",
    "                result.append((start, self.interval_length))\n",
    "            else:\n",
    "                result.append((start, self.total_supply - start + 1))\n",
    "            start += self.interval_length\n",
    "        return result\n",
    "    \n",
    "\n",
    "    def create_tasks_for_missing_nft(self, missing_list: list[int]) -> list[list[int]]:\n",
    "        \"\"\"\n",
    "        使用给定的间隔和结束值将 missing_list 划分为子列表。\n",
    "\n",
    "        Args:\n",
    "        :param interval_length: 区间值，整数。\n",
    "        :param missing_list: 结束值，整数。\n",
    "\n",
    "        :return: 一个区间元组列表。\n",
    "        \"\"\"\n",
    "        return [missing_list[i:i+self.interval_length] for i in range(0, len(missing_list), self.interval_length)]"
   ]
  },
  {
   "cell_type": "code",
   "execution_count": 3,
   "metadata": {},
   "outputs": [
    {
     "name": "stdout",
     "output_type": "stream",
     "text": [
      "[(0, 80), (80, 80), (160, 80), (240, 80), (320, 80), (400, 80), (480, 80), (560, 80), (640, 80), (720, 80), (800, 80), (880, 80), (960, 41)]\n"
     ]
    }
   ],
   "source": [
    "payloadFactory = PayloadFactory(candidate_format=\".png\", start=0, interval_length=80, total_supply=1000)\n",
    "\n",
    "payload_list = payloadFactory.create_interval_tuples_with_start_len()\n",
    "print(payload_list)"
   ]
  },
  {
   "cell_type": "code",
   "execution_count": 4,
   "metadata": {},
   "outputs": [
    {
     "name": "stdout",
     "output_type": "stream",
     "text": [
      "{'a': 1, 'b': 2, 'c': 3}\n"
     ]
    }
   ],
   "source": [
    "dict1 = {\"a\": 1, \"b\": 2}\n",
    "dict1.update({\"c\": 3})\n",
    "print(dict1)"
   ]
  },
  {
   "cell_type": "code",
   "execution_count": 1,
   "metadata": {},
   "outputs": [
    {
     "name": "stdout",
     "output_type": "stream",
     "text": [
      "[{\"blockchain\":\"ethereum\",\"collection_name\":\"Akutars\",\"contract_type\":\"ERC721\",\"contract_address\":\"0xaad35c2dadbe77f97301617d82e661776c891fa9\",\"token_id\":\"2\",\"name\":\"ICECREAM.01\",\"description\":\"Akutars are a collection of 15,000 unique, 3D avatars living on the Ethereum blockchain. Each Akutar grants you entry into the ever-expanding Akuverse, where lines are blurred between the digital and physical worlds. In which Akutar owners gain exclusive access to culture-defining experiences, products, and collaborations.\",\"image\":\"https://lh3.googleusercontent.com/7KRebOKWjPHzVAg747T9j5nqIGahNKNI2VLH3eyJQ3CjZ0S0svMCJ29sYU_11PxprVeUinn38QJakqJaGpgpWOGMGn05ibrHzQ=w0\",\"owner_addresses\":[\"0x6ab80cdb6b7658f30033047d05cdac43b1db54f3\"],\"traits\":[{\"type\":\"Background\",\"value\":\"ICECREAM Pink\"},{\"type\":\"Helmet\",\"value\":\"ICECREAM Dogs\"},{\"type\":\"Hand\",\"value\":\"ICECREAM Pink Lime\"},{\"type\":\"Top\",\"value\":\"ICECREAM Hoodie\"},{\"type\":\"Lighting\",\"value\":\"Aku Lighting\"},{\"type\":\"Team\",\"value\":\"Team Astra\"},{\"type\":\"Family\",\"value\":\"ICECREAM\"},{\"type\":\"Type\",\"value\":\"Handmade Custom Akutar\"}],\"rarity\":{\"score\":2.034,\"rank\":5},\"collection\":{\"last_updated\":1717762388,\"collection_id\":\"d51db390fa051b0860e5b93dd304ed4c\",\"blockchain\":\"ethereum\",\"name\":\"Akutars\",\"description\":\"Akutars are a collection of 15,000 unique, 3D Aku avatars with partnerships from; Puma, Planes, Vandal, Who Decides War, BBC and, Ice Cream. Each Akutar grants you entry into the ever-expanding Akuverse, where lines are blurred between the digital and physical worlds and owners gain exclusive access to culture-defining experiences, products, and collaborations.\",\"official_website_url\":\"https://www.aku.world\",\"opensea_url\":\"https://opensea.io/collection/akutars\",\"logo\":\"https://lh3.googleusercontent.com/GIWTeliD1LfX4c6BUlU_IgYzmp2s70fScBYlFWCqB0Lq1oYOqFZJiOnFpuURt--aXafnWbKZQJIjx2KGEt8j950WimEqvOu8yg8\",\"contracts\":[\"0xaad35c2dadbe77f97301617d82e661776c891fa9\"],\"contract_type\":\"ERC721\",\"categories\":[\"pfps\"],\"twitter_url\":\"https://twitter.com/AkuDreams\",\"has_rarity\":false,\"is_blue_chip_coll\":false,\"total_supply\":14824,\"is_spam\":false},\"created\":{\"minted_to\":\"0xCc0eCD808Ce4fEd81f0552b3889656B28aa2BAe9\",\"quantity\":1,\"timestamp\":1650896350,\"block_number\":14654278,\"transaction\":\"0xb9a43049801a1c8020e5ccfc890b002f0996899c87d9b0fc4f33b6201249e114\"},\"extra_info\":{}},{\"blockchain\":\"ethereum\",\"collection_name\":\"Akutars\",\"contract_type\":\"ERC721\",\"contract_address\":\"0xaad35c2dadbe77f97301617d82e661776c891fa9\",\"token_id\":\"1\",\"name\":\"BBC.01\",\"description\":\"Akutars are a collection of 15,000 unique, 3D avatars living on the Ethereum blockchain. Each Akutar grants you entry into the ever-expanding Akuverse, where lines are blurred between the digital and physical worlds. In which Akutar owners gain exclusive access to culture-defining experiences, products, and collaborations.\",\"image\":\"https://lh3.googleusercontent.com/RU9lXD8LaM5-jyjtUuoYWyYxAYvnM0ZCKwJdUBvZ-0YA6UMmLVe77qBOsolK3eyJ_O1DppkcIijiT33cWv6JNwki-tn_JaCOOftc=w0\",\"owner_addresses\":[\"0xe1b7a6bcc575cf48ad85288832f53902112af4ad\"],\"traits\":[{\"type\":\"Background\",\"value\":\"BBC Green\"},{\"type\":\"Helmet\",\"value\":\"BBC Gold\"},{\"type\":\"Hand\",\"value\":\"BBC Spaceship\"},{\"type\":\"Visor\",\"value\":\"BBC Gold Visor\"},{\"type\":\"Top\",\"value\":\"BBC Black Varsity Jacket\"},{\"type\":\"Lighting\",\"value\":\"Aku Lighting\"},{\"type\":\"Team\",\"value\":\"Team Astra\"},{\"type\":\"Family\",\"value\":\"BBC\"},{\"type\":\"Type\",\"value\":\"Handmade Custom Akutar\"}],\"rarity\":{\"score\":2.088,\"rank\":19},\"collection\":{\"last_updated\":1717762388,\"collection_id\":\"d51db390fa051b0860e5b93dd304ed4c\",\"blockchain\":\"ethereum\",\"name\":\"Akutars\",\"description\":\"Akutars are a collection of 15,000 unique, 3D Aku avatars with partnerships from; Puma, Planes, Vandal, Who Decides War, BBC and, Ice Cream. Each Akutar grants you entry into the ever-expanding Akuverse, where lines are blurred between the digital and physical worlds and owners gain exclusive access to culture-defining experiences, products, and collaborations.\",\"official_website_url\":\"https://www.aku.world\",\"opensea_url\":\"https://opensea.io/collection/akutars\",\"logo\":\"https://lh3.googleusercontent.com/GIWTeliD1LfX4c6BUlU_IgYzmp2s70fScBYlFWCqB0Lq1oYOqFZJiOnFpuURt--aXafnWbKZQJIjx2KGEt8j950WimEqvOu8yg8\",\"contracts\":[\"0xaad35c2dadbe77f97301617d82e661776c891fa9\"],\"contract_type\":\"ERC721\",\"categories\":[\"pfps\"],\"twitter_url\":\"https://twitter.com/AkuDreams\",\"has_rarity\":false,\"is_blue_chip_coll\":false,\"total_supply\":14824,\"is_spam\":false},\"created\":{\"minted_to\":\"0xCc0eCD808Ce4fEd81f0552b3889656B28aa2BAe9\",\"quantity\":1,\"timestamp\":1650896350,\"block_number\":14654278,\"transaction\":\"0xb9a43049801a1c8020e5ccfc890b002f0996899c87d9b0fc4f33b6201249e114\"},\"extra_info\":{}}]\n"
     ]
    }
   ],
   "source": [
    "import requests\n",
    "\n",
    "url = \"https://data-api.nftgo.io/ethereum/v1/nft/infos\"\n",
    "\n",
    "payload = { \"params\": [\n",
    "        {\n",
    "            \"contract_address\": \"0xaad35c2dadbe77f97301617d82e661776c891fa9\",\n",
    "            \"token_id\": \"2\"\n",
    "        },\n",
    "        {\n",
    "            \"contract_address\": \"0xaad35c2dadbe77f97301617d82e661776c891fa9\",\n",
    "            \"token_id\": \"1\"\n",
    "        }\n",
    "    ] }\n",
    "headers = {\n",
    "    \"accept\": \"application/json\",\n",
    "    \"content-type\": \"application/json\",\n",
    "    \"X-API-KEY\": \"2d8aef73-3b44-48dc-82bf-ea187cb62ce0\"\n",
    "}\n",
    "\n",
    "response = requests.post(url, json=payload, headers=headers)\n",
    "\n",
    "print(response.text)"
   ]
  },
  {
   "cell_type": "code",
   "execution_count": 2,
   "metadata": {},
   "outputs": [
    {
     "ename": "NameError",
     "evalue": "name 'null' is not defined",
     "output_type": "error",
     "traceback": [
      "\u001b[1;31m---------------------------------------------------------------------------\u001b[0m",
      "\u001b[1;31mNameError\u001b[0m                                 Traceback (most recent call last)",
      "Cell \u001b[1;32mIn[2], line 2\u001b[0m\n\u001b[0;32m      1\u001b[0m test_json\u001b[38;5;241m=\u001b[39m {\n\u001b[1;32m----> 2\u001b[0m     \u001b[38;5;124m\"\u001b[39m\u001b[38;5;124merror\u001b[39m\u001b[38;5;124m\"\u001b[39m: \u001b[43mnull\u001b[49m\n\u001b[0;32m      3\u001b[0m }\n",
      "\u001b[1;31mNameError\u001b[0m: name 'null' is not defined"
     ]
    }
   ],
   "source": [
    "test_json= {\n",
    "    \"error\": null\n",
    "}"
   ]
  }
 ],
 "metadata": {
  "kernelspec": {
   "display_name": "Python 3",
   "language": "python",
   "name": "python3"
  },
  "language_info": {
   "codemirror_mode": {
    "name": "ipython",
    "version": 3
   },
   "file_extension": ".py",
   "mimetype": "text/x-python",
   "name": "python",
   "nbconvert_exporter": "python",
   "pygments_lexer": "ipython3",
   "version": "3.9.13"
  }
 },
 "nbformat": 4,
 "nbformat_minor": 2
}
