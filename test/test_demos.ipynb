{
 "cells": [
  {
   "cell_type": "code",
   "execution_count": 26,
   "metadata": {},
   "outputs": [
    {
     "name": "stdout",
     "output_type": "stream",
     "text": [
      "文件格式为: 无法访问文件\n"
     ]
    }
   ],
   "source": [
    "# 要获取一个文件资源链接的文件格式，可以使用Python编写一个函数来下载文件并检查其MIME类型。以下是一个示例代码：\n",
    "\n",
    "\n",
    "import requests\n",
    "import mimetypes\n",
    "\n",
    "def get_file_format(url: str) -> str:\n",
    "    \"\"\"\n",
    "    获取文件格式\n",
    "    \n",
    "    :param url: 文件资源链接\n",
    "    :return: 文件的MIME类型\n",
    "    \"\"\"\n",
    "    response = requests.get(url, stream=True)\n",
    "    if response.status_code == 200:\n",
    "        content_type = response.headers.get('Content-Type')\n",
    "        if content_type:\n",
    "            return content_type\n",
    "        else:\n",
    "            ext = url.split('.')[-1]\n",
    "            mime_type = mimetypes.guess_type(url)[0]\n",
    "            return mime_type if mime_type else '未知类型'\n",
    "    else:\n",
    "        return '无法访问文件'\n",
    "\n",
    "# # 示例使用\n",
    "url = \"https://ipfs.io/ipfs/QmeSjSinHpPnmXmspMjwiXyN6zS4E9zccariGR3jxcaWtq/2.jpg\"\n",
    "# url = \"https://i.seadn.io/gae/48oVuDyfe_xhs24BC2TTVcaYCX7rrU5mpuQLyTgRDbKHj2PtzKZsQ5qC3xTH4ar34wwAXxEKH8uUDPAGffbg7boeGYqX6op5vBDcbA?w=3840&auto=format\"\n",
    "# url = \"https://i.seadn.io/gcs/files/c6cb0b1d6f2ab61c0efacf00e62e2230.jpg?w=3840&auto=format\"\n",
    "file_format = get_file_format(url)\n",
    "print(f\"文件格式为: {file_format}\")\n"
   ]
  },
  {
   "cell_type": "code",
   "execution_count": 31,
   "metadata": {},
   "outputs": [
    {
     "name": "stdout",
     "output_type": "stream",
     "text": [
      "文件格式为: .png\n"
     ]
    }
   ],
   "source": [
    "import requests\n",
    "\n",
    "def get_media_format(url: str) -> str:\n",
    "    \"\"\"\n",
    "    获取文件格式，如果文件名包含常见文件扩展名则返回该扩展名\n",
    "    \n",
    "    :param url: 文件资源链接\n",
    "    :return: 文件扩展名例如(\".jpg\", \".png\", \".mp4\" 等), 如果无法获取则返回 NULL\n",
    "    \n",
    "    \"\"\"\n",
    "\n",
    "    response = requests.get(url, stream=True)\n",
    "    if response.status_code == 200:\n",
    "        content_type = response.headers.get('Content-Type')\n",
    "        if content_type:\n",
    "            fmt = f\".{content_type.split('/')[-1]}\"\n",
    "            return fmt\n",
    "        else:\n",
    "            common_formats = ['.jpg', '.jpeg', '.png', 'webp', '.gif', '.mp4', \".svg\", '.xml']\n",
    "            for fmt in common_formats:\n",
    "                if fmt in url:\n",
    "                    return fmt\n",
    "    else:\n",
    "        return None\n",
    "\n",
    "# 示例使用\n",
    "# url = \"https://i.seadn.io/gcs/files/c6cb0b1d6f2ab61c0efacf00e62e2230.jpg?w=3840&auto=format\"\n",
    "url = \"https://ipfs.io/ipfs/QmYPznMvizE4BxrYaXM8dpRrzgN6Pg2rtTczjzNn13More\"\n",
    "file_format = get_media_format(url)\n",
    "print(f\"文件格式为: {file_format}\")\n"
   ]
  },
  {
   "cell_type": "code",
   "execution_count": 2,
   "metadata": {},
   "outputs": [],
   "source": [
    "class PayloadFactory:\n",
    "    def __init__(self,\n",
    "                candidate_format: str,\n",
    "                start=0,\n",
    "                interval_length=80,\n",
    "                total_supply=0):\n",
    "\n",
    "        self.start = start\n",
    "        self.interval_length = interval_length\n",
    "        self.total_supply = total_supply\n",
    "        self.candidate_format = candidate_format\n",
    "\n",
    "    def create_interval_tuples_with_start_end(self) -> list:\n",
    "        \"\"\"\n",
    "        使用给定的间隔和结束值创建一个区间元组列表。\n",
    "\n",
    "        :return: 一个区间元组列表。\n",
    "        \"\"\"\n",
    "        result = []\n",
    "        start = self.start\n",
    "        while start < self.totalSupply:\n",
    "            result.append((start, min(start + self.interval_length, self.totalSupply)))\n",
    "            start += self.interval_length\n",
    "        return result\n",
    "\n",
    "    def create_interval_tuples_with_start_len(self) -> list:\n",
    "        \"\"\"\n",
    "        使用给定的间隔和结束值创建一个区间元组列表, 列表中的元素形式为（区间开始，区间间隔）。\n",
    "\n",
    "        :return: 一个区间元组列表。\n",
    "        \"\"\"\n",
    "        result = []\n",
    "        start = self.start\n",
    "        while start < self.total_supply:\n",
    "            if start + self.interval_length < self.total_supply:\n",
    "                result.append((start, self.interval_length))\n",
    "            else:\n",
    "                result.append((start, self.total_supply - start + 1))\n",
    "            start += self.interval_length\n",
    "        return result\n",
    "    \n",
    "\n",
    "    def create_tasks_for_missing_nft(self, missing_list: list[int]) -> list[list[int]]:\n",
    "        \"\"\"\n",
    "        使用给定的间隔和结束值将 missing_list 划分为子列表。\n",
    "\n",
    "        Args:\n",
    "        :param interval_length: 区间值，整数。\n",
    "        :param missing_list: 结束值，整数。\n",
    "\n",
    "        :return: 一个区间元组列表。\n",
    "        \"\"\"\n",
    "        return [missing_list[i:i+self.interval_length] for i in range(0, len(missing_list), self.interval_length)]"
   ]
  },
  {
   "cell_type": "code",
   "execution_count": 3,
   "metadata": {},
   "outputs": [
    {
     "name": "stdout",
     "output_type": "stream",
     "text": [
      "[(0, 80), (80, 80), (160, 80), (240, 80), (320, 80), (400, 80), (480, 80), (560, 80), (640, 80), (720, 80), (800, 80), (880, 80), (960, 41)]\n"
     ]
    }
   ],
   "source": [
    "payloadFactory = PayloadFactory(candidate_format=\".png\", start=0, interval_length=80, total_supply=1000)\n",
    "\n",
    "payload_list = payloadFactory.create_interval_tuples_with_start_len()\n",
    "print(payload_list)"
   ]
  },
  {
   "cell_type": "code",
   "execution_count": 4,
   "metadata": {},
   "outputs": [
    {
     "name": "stdout",
     "output_type": "stream",
     "text": [
      "{'a': 1, 'b': 2, 'c': 3}\n"
     ]
    }
   ],
   "source": [
    "dict1 = {\"a\": 1, \"b\": 2}\n",
    "dict1.update({\"c\": 3})\n",
    "print(dict1)"
   ]
  },
  {
   "cell_type": "code",
   "execution_count": 7,
   "metadata": {},
   "outputs": [
    {
     "name": "stdout",
     "output_type": "stream",
     "text": [
      "0 cachedUrl https://ipfs.io/ipfs/QmYPznMvizE4BxrYaXM8dpRrzgN6Pg2rtTczjzNn13More\n",
      "1 thumbnailUrl None\n",
      "2 pngUrl None\n",
      "3 contentType None\n",
      "4 size None\n",
      "5 originalUrl https://ipfs.io/ipfs/QmYPznMvizE4BxrYaXM8dpRrzgN6Pg2rtTczjzNn13More\n",
      "https://ipfs.io/ipfs/QmYPznMvizE4BxrYaXM8dpRrzgN6Pg2rtTczjzNn13More\n",
      "https://ipfs.io/ipfs/QmYPznMvizE4BxrYaXM8dpRrzgN6Pg2rtTczjzNn13More\n"
     ]
    }
   ],
   "source": [
    "dict1 = {\n",
    "            \"cachedUrl\": \"https://ipfs.io/ipfs/QmYPznMvizE4BxrYaXM8dpRrzgN6Pg2rtTczjzNn13More\",\n",
    "            \"thumbnailUrl\": None,\n",
    "            \"pngUrl\": None,\n",
    "            \"contentType\": None,\n",
    "            \"size\": None,\n",
    "            \"originalUrl\": \"https://ipfs.io/ipfs/QmYPznMvizE4BxrYaXM8dpRrzgN6Pg2rtTczjzNn13More\"\n",
    "            }\n",
    "\n",
    "for index, (key, value) in enumerate(dict1.items()):\n",
    "    print(index, key, value)\n",
    "\n",
    "\n",
    "for value in dict1.values():\n",
    "    if value:\n",
    "        print(value)"
   ]
  },
  {
   "cell_type": "code",
   "execution_count": 8,
   "metadata": {},
   "outputs": [
    {
     "name": "stdout",
     "output_type": "stream",
     "text": [
      "{'0': 0, '1': 1, '2': 2, '3': 3, '4': 4, '5': 5, '6': 6, '7': 7, '8': 8, '9': 9}\n"
     ]
    }
   ],
   "source": [
    "dict1 = {}\n",
    "for index in range(10):\n",
    "    temp_dict = {}\n",
    "    temp_dict[str(index)] = index\n",
    "    dict1.update(temp_dict)\n",
    "print(dict1) "
   ]
  },
  {
   "cell_type": "code",
   "execution_count": 9,
   "metadata": {},
   "outputs": [
    {
     "name": "stdout",
     "output_type": "stream",
     "text": [
      "test_demos.ipynb\n"
     ]
    }
   ],
   "source": [
    "from pathlib import Path\n",
    "path1  = Path(r\"C:\\Users\\Lenovo\\Desktop\\Web3_Projects\\NFT-Downloader-GUI\\test\\test_demos.ipynb\")\n",
    "print(path1.name)"
   ]
  }
 ],
 "metadata": {
  "kernelspec": {
   "display_name": "Python 3",
   "language": "python",
   "name": "python3"
  },
  "language_info": {
   "codemirror_mode": {
    "name": "ipython",
    "version": 3
   },
   "file_extension": ".py",
   "mimetype": "text/x-python",
   "name": "python",
   "nbconvert_exporter": "python",
   "pygments_lexer": "ipython3",
   "version": "3.9.13"
  }
 },
 "nbformat": 4,
 "nbformat_minor": 2
}
